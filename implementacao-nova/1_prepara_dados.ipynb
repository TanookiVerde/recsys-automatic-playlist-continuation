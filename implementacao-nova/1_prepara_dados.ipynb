{
 "cells": [
  {
   "cell_type": "markdown",
   "metadata": {},
   "source": [
    "# Etapa 1 - Preparação de Dados"
   ]
  },
  {
   "cell_type": "code",
   "execution_count": 1,
   "metadata": {},
   "outputs": [],
   "source": [
    "import pickle\n",
    "\n",
    "from json import load\n",
    "from tqdm.notebook import tqdm"
   ]
  },
  {
   "cell_type": "code",
   "execution_count": null,
   "metadata": {},
   "outputs": [],
   "source": [
    "with open(\"../dados-processados/dataset.pickle\", 'rb') as _file:\n",
    "    dataset = pickle.load(_file)\n",
    "\n",
    "dataset"
   ]
  },
  {
   "cell_type": "code",
   "execution_count": 5,
   "metadata": {},
   "outputs": [
    {
     "data": {
      "text/html": [
       "<div>\n",
       "<style scoped>\n",
       "    .dataframe tbody tr th:only-of-type {\n",
       "        vertical-align: middle;\n",
       "    }\n",
       "\n",
       "    .dataframe tbody tr th {\n",
       "        vertical-align: top;\n",
       "    }\n",
       "\n",
       "    .dataframe thead th {\n",
       "        text-align: right;\n",
       "    }\n",
       "</style>\n",
       "<table border=\"1\" class=\"dataframe\">\n",
       "  <thead>\n",
       "    <tr style=\"text-align: right;\">\n",
       "      <th></th>\n",
       "      <th>nome</th>\n",
       "      <th>tracks</th>\n",
       "    </tr>\n",
       "  </thead>\n",
       "  <tbody>\n",
       "    <tr>\n",
       "      <th>0</th>\n",
       "      <td>Throwbacks</td>\n",
       "      <td>[(0, 0, 0), (1, 1, 1), (2, 2, 2), (3, 3, 3), (...</td>\n",
       "    </tr>\n",
       "    <tr>\n",
       "      <th>1</th>\n",
       "      <td>Awesome Playlist</td>\n",
       "      <td>[(0, 37, 51), (1, 38, 52), (2, 38, 53), (3, 38...</td>\n",
       "    </tr>\n",
       "    <tr>\n",
       "      <th>2</th>\n",
       "      <td>korean</td>\n",
       "      <td>[(0, 58, 90), (1, 59, 91), (2, 60, 92), (3, 60...</td>\n",
       "    </tr>\n",
       "    <tr>\n",
       "      <th>3</th>\n",
       "      <td>mat</td>\n",
       "      <td>[(0, 89, 154), (1, 89, 155), (2, 90, 156), (3,...</td>\n",
       "    </tr>\n",
       "    <tr>\n",
       "      <th>4</th>\n",
       "      <td>90s</td>\n",
       "      <td>[(0, 175, 280), (1, 176, 281), (2, 177, 282), ...</td>\n",
       "    </tr>\n",
       "    <tr>\n",
       "      <th>...</th>\n",
       "      <td>...</td>\n",
       "      <td>...</td>\n",
       "    </tr>\n",
       "    <tr>\n",
       "      <th>999995</th>\n",
       "      <td>Praise</td>\n",
       "      <td>[(0, 2290, 113082), (1, 820, 5782), (2, 820, 4...</td>\n",
       "    </tr>\n",
       "    <tr>\n",
       "      <th>999996</th>\n",
       "      <td>Worship</td>\n",
       "      <td>[(0, 136367, 2262284), (1, 136367, 2262285), (...</td>\n",
       "    </tr>\n",
       "    <tr>\n",
       "      <th>999997</th>\n",
       "      <td>Sex</td>\n",
       "      <td>[(0, 1656, 39642), (1, 1606, 41142), (2, 1644,...</td>\n",
       "    </tr>\n",
       "    <tr>\n",
       "      <th>999998</th>\n",
       "      <td>✝️</td>\n",
       "      <td>[(0, 638, 5767), (1, 2303, 5871), (2, 4548, 14...</td>\n",
       "    </tr>\n",
       "    <tr>\n",
       "      <th>999999</th>\n",
       "      <td>BANDA</td>\n",
       "      <td>[(0, 4263, 12420), (1, 4263, 12517), (2, 4284,...</td>\n",
       "    </tr>\n",
       "  </tbody>\n",
       "</table>\n",
       "<p>1000000 rows × 2 columns</p>\n",
       "</div>"
      ],
      "text/plain": [
       "                    nome                                             tracks\n",
       "0             Throwbacks  [(0, 0, 0), (1, 1, 1), (2, 2, 2), (3, 3, 3), (...\n",
       "1       Awesome Playlist  [(0, 37, 51), (1, 38, 52), (2, 38, 53), (3, 38...\n",
       "2                korean   [(0, 58, 90), (1, 59, 91), (2, 60, 92), (3, 60...\n",
       "3                    mat  [(0, 89, 154), (1, 89, 155), (2, 90, 156), (3,...\n",
       "4                    90s  [(0, 175, 280), (1, 176, 281), (2, 177, 282), ...\n",
       "...                  ...                                                ...\n",
       "999995            Praise  [(0, 2290, 113082), (1, 820, 5782), (2, 820, 4...\n",
       "999996           Worship  [(0, 136367, 2262284), (1, 136367, 2262285), (...\n",
       "999997               Sex  [(0, 1656, 39642), (1, 1606, 41142), (2, 1644,...\n",
       "999998                ✝️  [(0, 638, 5767), (1, 2303, 5871), (2, 4548, 14...\n",
       "999999             BANDA  [(0, 4263, 12420), (1, 4263, 12517), (2, 4284,...\n",
       "\n",
       "[1000000 rows x 2 columns]"
      ]
     },
     "execution_count": 5,
     "metadata": {},
     "output_type": "execute_result"
    }
   ],
   "source": [
    "import pandas as pd\n",
    "\n",
    "\n",
    "df = pd.DataFrame(dataset, columns=['nome','tracks'])\n",
    "df"
   ]
  },
  {
   "cell_type": "code",
   "execution_count": 8,
   "metadata": {},
   "outputs": [
    {
     "data": {
      "text/plain": [
       "0               Throwbacks\n",
       "1         Awesome Playlist\n",
       "2                  korean \n",
       "3                      mat\n",
       "4                      90s\n",
       "5                  Wedding\n",
       "6     I Put A Spell On You\n",
       "7                     2017\n",
       "8                      BOP\n",
       "9             old country \n",
       "10                   abby \n",
       "11                    VIBE\n",
       "12                   relax\n",
       "13                   sleep\n",
       "14                   90's \n",
       "15               New Songs\n",
       "16              slow hands\n",
       "17          Mom's playlist\n",
       "18                   SARAH\n",
       "19              melancholy\n",
       "20                 mixtape\n",
       "21               Sad Songs\n",
       "22                fall '17\n",
       "23                      ✔️\n",
       "24       Twenty one pilots\n",
       "25                  run it\n",
       "26             Winter 2014\n",
       "27                 smooth \n",
       "28                    Yeet\n",
       "29                  groovy\n",
       "30             Garage Rock\n",
       "31             Running 2.0\n",
       "32                acoustic\n",
       "33                 morning\n",
       "34               good good\n",
       "35              Good Vibes\n",
       "36              indie rock\n",
       "37                    Hits\n",
       "38                      tb\n",
       "39                 Country\n",
       "Name: nome, dtype: object"
      ]
     },
     "execution_count": 8,
     "metadata": {},
     "output_type": "execute_result"
    }
   ],
   "source": [
    "df['nome'].iloc[:40]"
   ]
  }
 ],
 "metadata": {
  "kernelspec": {
   "display_name": "Python 3",
   "language": "python",
   "name": "python3"
  },
  "language_info": {
   "codemirror_mode": {
    "name": "ipython",
    "version": 3
   },
   "file_extension": ".py",
   "mimetype": "text/x-python",
   "name": "python",
   "nbconvert_exporter": "python",
   "pygments_lexer": "ipython3",
   "version": "3.8.5"
  }
 },
 "nbformat": 4,
 "nbformat_minor": 2
}
