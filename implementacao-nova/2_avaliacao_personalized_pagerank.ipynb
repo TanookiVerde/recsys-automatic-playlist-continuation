{
 "cells": [
  {
   "cell_type": "code",
   "execution_count": null,
   "metadata": {},
   "outputs": [],
   "source": [
    "import pickle"
   ]
  },
  {
   "cell_type": "code",
   "execution_count": null,
   "metadata": {},
   "outputs": [],
   "source": [
    "with open(\"../dados-processados/normalized_network.pickle\", 'rb') as _file:\n",
    "    normalized_network = pickle.load(_file)"
   ]
  },
  {
   "cell_type": "code",
   "execution_count": null,
   "metadata": {},
   "outputs": [],
   "source": [
    "from models.personalized_pagerank import PersonalizedPageRank\n",
    "\n",
    "\n",
    "model = PersonalizedPageRank(\n",
    "    walk_depth  = 5, \n",
    "    network     = normalized_network, \n",
    "    n_walks     = 5\n",
    ")"
   ]
  }
 ],
 "metadata": {
  "language_info": {
   "name": "python"
  }
 },
 "nbformat": 4,
 "nbformat_minor": 2
}
