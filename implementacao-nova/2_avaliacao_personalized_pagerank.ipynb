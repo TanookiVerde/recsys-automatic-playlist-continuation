{
 "cells": [
  {
   "cell_type": "code",
   "execution_count": 1,
   "metadata": {},
   "outputs": [],
   "source": [
    "import pickle"
   ]
  },
  {
   "cell_type": "code",
   "execution_count": 2,
   "metadata": {},
   "outputs": [],
   "source": [
    "with open(\"../dados-processados/normalized_network.pickle\", 'rb') as _file:\n",
    "    normalized_network = pickle.load(_file)"
   ]
  },
  {
   "cell_type": "code",
   "execution_count": 3,
   "metadata": {},
   "outputs": [],
   "source": [
    "from models.personalized_pagerank import PersonalizedPageRank\n",
    "\n",
    "\n",
    "model = PersonalizedPageRank(\n",
    "    walk_depth  = 5, \n",
    "    network     = normalized_network, \n",
    "    n_walks     = 5\n",
    ")"
   ]
  },
  {
   "cell_type": "code",
   "execution_count": 4,
   "metadata": {},
   "outputs": [],
   "source": [
    "with open(\"../dados-processados/dataset_challenge.pickle\", 'rb') as _file:\n",
    "    testset = pickle.load(_file)"
   ]
  },
  {
   "cell_type": "code",
   "execution_count": 14,
   "metadata": {},
   "outputs": [
    {
     "data": {
      "text/plain": [
       "[766, 869, 249, 636, 799]"
      ]
     },
     "execution_count": 14,
     "metadata": {},
     "output_type": "execute_result"
    }
   ],
   "source": [
    "name, playlist = testset[2000]\n",
    "tracks = [x[1] for x in playlist]\n",
    "\n",
    "tracks"
   ]
  },
  {
   "cell_type": "code",
   "execution_count": 15,
   "metadata": {},
   "outputs": [
    {
     "data": {
      "text/plain": [
       "[[291,\n",
       "  196,\n",
       "  872,\n",
       "  6370,\n",
       "  1040,\n",
       "  1006,\n",
       "  780,\n",
       "  779,\n",
       "  205,\n",
       "  912,\n",
       "  24,\n",
       "  398,\n",
       "  617,\n",
       "  3179,\n",
       "  880,\n",
       "  187244,\n",
       "  612,\n",
       "  782,\n",
       "  5,\n",
       "  4734,\n",
       "  12418,\n",
       "  1002,\n",
       "  982,\n",
       "  344,\n",
       "  85474,\n",
       "  2239,\n",
       "  766,\n",
       "  7852,\n",
       "  12162,\n",
       "  10226,\n",
       "  13666,\n",
       "  110372,\n",
       "  5216,\n",
       "  473,\n",
       "  869,\n",
       "  390,\n",
       "  1156,\n",
       "  231,\n",
       "  1170,\n",
       "  804,\n",
       "  13744,\n",
       "  42489,\n",
       "  1104,\n",
       "  2970,\n",
       "  991,\n",
       "  360,\n",
       "  23,\n",
       "  207,\n",
       "  2926,\n",
       "  1811,\n",
       "  1979,\n",
       "  2626,\n",
       "  198,\n",
       "  236,\n",
       "  1689,\n",
       "  234,\n",
       "  990,\n",
       "  1034,\n",
       "  600,\n",
       "  11332,\n",
       "  23498,\n",
       "  29466,\n",
       "  201,\n",
       "  3860,\n",
       "  563,\n",
       "  140,\n",
       "  7255,\n",
       "  305,\n",
       "  1095,\n",
       "  225,\n",
       "  764,\n",
       "  432,\n",
       "  927,\n",
       "  204,\n",
       "  601,\n",
       "  1707,\n",
       "  3908,\n",
       "  1808,\n",
       "  915,\n",
       "  976,\n",
       "  1085,\n",
       "  261,\n",
       "  1543,\n",
       "  346,\n",
       "  1038,\n",
       "  350,\n",
       "  79438,\n",
       "  4717,\n",
       "  80700,\n",
       "  799,\n",
       "  206,\n",
       "  1075,\n",
       "  755,\n",
       "  7943,\n",
       "  2117,\n",
       "  2125,\n",
       "  664,\n",
       "  347,\n",
       "  464]]"
      ]
     },
     "execution_count": 15,
     "metadata": {},
     "output_type": "execute_result"
    }
   ],
   "source": [
    "model.predict([tracks])"
   ]
  }
 ],
 "metadata": {
  "kernelspec": {
   "display_name": "Python 3",
   "language": "python",
   "name": "python3"
  },
  "language_info": {
   "codemirror_mode": {
    "name": "ipython",
    "version": 3
   },
   "file_extension": ".py",
   "mimetype": "text/x-python",
   "name": "python",
   "nbconvert_exporter": "python",
   "pygments_lexer": "ipython3",
   "version": "3.8.5"
  }
 },
 "nbformat": 4,
 "nbformat_minor": 2
}
