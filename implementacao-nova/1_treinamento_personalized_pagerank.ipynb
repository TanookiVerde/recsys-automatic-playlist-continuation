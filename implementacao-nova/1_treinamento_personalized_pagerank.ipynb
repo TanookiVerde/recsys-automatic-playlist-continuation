{
 "cells": [
  {
   "cell_type": "markdown",
   "metadata": {},
   "source": [
    "# Modelo 1 - Personalized PageRank"
   ]
  },
  {
   "cell_type": "code",
   "execution_count": 1,
   "metadata": {},
   "outputs": [],
   "source": [
    "import pickle\n",
    "import json\n",
    "import numpy as np\n",
    "import os\n",
    "from scipy.sparse import dok_matrix\n",
    "\n",
    "from tqdm.notebook import tqdm"
   ]
  },
  {
   "cell_type": "markdown",
   "metadata": {},
   "source": [
    "## Preparação de Dados"
   ]
  },
  {
   "cell_type": "markdown",
   "metadata": {},
   "source": [
    "### Calcula rede \n",
    "- Se já existir o arquivo `dados-processados/network.pickle` a rede não é calculada novamente"
   ]
  },
  {
   "cell_type": "code",
   "execution_count": 2,
   "metadata": {},
   "outputs": [],
   "source": [
    "if not os.path.isfile(\"../dados-processados/network.pickle\"):\n",
    "\n",
    "    # Carregando Dados Processados\n",
    "    with open(\"../dados-processados/dataset.pickle\", 'rb') as _file:\n",
    "        dataset = pickle.load(_file)\n",
    "\n",
    "    # Carregando Dicionario Encoder de Músicas\n",
    "    with open(\"../dados-processados/encoding_tracks.json\", 'r') as _file:\n",
    "        tracks_encoder = json.load(_file)\n",
    "\n",
    "    # Descobre quantidade de musicas únicas\n",
    "    track_count = len(tracks_encoder.keys())\n",
    "\n",
    "    # Cria matriz esparsa\n",
    "    network = dok_matrix((track_count,track_count), dtype=int)\n",
    "\n",
    "    # Preenche matriz com frequências de transição\n",
    "    for playlist_name, tracklist in tqdm(dataset):\n",
    "        for track_idx in range( len(tracklist)-1 ) :\n",
    "            current_track_id = tracklist[track_idx][1]\n",
    "            next_track_id = tracklist[track_idx+1][1]\n",
    "\n",
    "            network[current_track_id, next_track_id] += 1\n",
    "    \n",
    "    # Salva rede\n",
    "    with open(\"../dados-processados/network.pickle\", 'wb') as _file:\n",
    "        pickle.dump(network, _file)\n",
    "else:\n",
    "    # Carrega rede já criada\n",
    "    with open(\"../dados-processados/network.pickle\", 'rb') as _file:\n",
    "        network = pickle.load(_file)"
   ]
  },
  {
   "cell_type": "markdown",
   "metadata": {},
   "source": [
    "### Normalizando Pesos de Arestas"
   ]
  },
  {
   "cell_type": "markdown",
   "metadata": {},
   "source": [
    "Calcula a soma total de transições por musica"
   ]
  },
  {
   "cell_type": "code",
   "execution_count": 3,
   "metadata": {},
   "outputs": [],
   "source": [
    "sums = network.sum(axis=1)"
   ]
  },
  {
   "cell_type": "markdown",
   "metadata": {},
   "source": [
    "Gera copia da Rede com arestas normalizadas"
   ]
  },
  {
   "cell_type": "code",
   "execution_count": 4,
   "metadata": {},
   "outputs": [],
   "source": [
    "if not os.path.isfile(\"../dados-processados/normalized_network.pickle\"):\n",
    "\n",
    "    normalized_network = dok_matrix(network.shape, dtype=float)\n",
    "\n",
    "    for key in tqdm(network.keys()):\n",
    "        row_idx = key[0]\n",
    "        normalized_network[key] = network[key] / float(sums[row_idx])\n",
    "\n",
    "    with open(\"../dados-processados/normalized_network.pickle\", 'wb') as _file:\n",
    "        pickle.dump(normalized_network, _file)\n",
    "else:\n",
    "    # Carrega rede já criada\n",
    "    with open(\"../dados-processados/normalized_network.pickle\", 'rb') as _file:\n",
    "        normalized_network = pickle.load(_file)"
   ]
  },
  {
   "cell_type": "markdown",
   "metadata": {},
   "source": [
    "## Implementação Algoritmo"
   ]
  },
  {
   "cell_type": "code",
   "execution_count": 97,
   "metadata": {},
   "outputs": [],
   "source": [
    "from models.personalized_pagerank import PersonalizedPageRank\n",
    "\n",
    "\n",
    "model = PersonalizedPageRank(\n",
    "    walk_depth  = 5, \n",
    "    network     = normalized_network, \n",
    "    n_walks     = 5\n",
    ")"
   ]
  },
  {
   "cell_type": "code",
   "execution_count": 98,
   "metadata": {},
   "outputs": [
    {
     "data": {
      "text/plain": [
       "[[27114,\n",
       "  2170,\n",
       "  65472,\n",
       "  207,\n",
       "  1782,\n",
       "  308,\n",
       "  603,\n",
       "  1133,\n",
       "  1275,\n",
       "  3688,\n",
       "  11904,\n",
       "  3689,\n",
       "  1952,\n",
       "  4035,\n",
       "  43,\n",
       "  25808,\n",
       "  8293,\n",
       "  213,\n",
       "  339,\n",
       "  2586,\n",
       "  671,\n",
       "  2337,\n",
       "  1271,\n",
       "  1054,\n",
       "  8480,\n",
       "  883,\n",
       "  2684,\n",
       "  829,\n",
       "  195,\n",
       "  212,\n",
       "  4171,\n",
       "  1035,\n",
       "  824,\n",
       "  578,\n",
       "  4150,\n",
       "  2011,\n",
       "  27312,\n",
       "  3158,\n",
       "  2194]]"
      ]
     },
     "execution_count": 98,
     "metadata": {},
     "output_type": "execute_result"
    }
   ],
   "source": [
    "model.predict([\n",
    "    [43,328232,22]\n",
    "])"
   ]
  }
 ],
 "metadata": {
  "kernelspec": {
   "display_name": "Python 3",
   "language": "python",
   "name": "python3"
  },
  "language_info": {
   "codemirror_mode": {
    "name": "ipython",
    "version": 3
   },
   "file_extension": ".py",
   "mimetype": "text/x-python",
   "name": "python",
   "nbconvert_exporter": "python",
   "pygments_lexer": "ipython3",
   "version": "3.8.5"
  }
 },
 "nbformat": 4,
 "nbformat_minor": 2
}
