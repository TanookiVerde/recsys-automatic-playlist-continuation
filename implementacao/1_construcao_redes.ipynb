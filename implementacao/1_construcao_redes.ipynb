{
 "cells": [
  {
   "cell_type": "markdown",
   "metadata": {},
   "source": [
    "# Etapa 1 - Treinamento de Modelo Personalized PageRank"
   ]
  },
  {
   "cell_type": "code",
   "execution_count": 1,
   "metadata": {},
   "outputs": [],
   "source": [
    "import pickle\n",
    "import json\n",
    "import dgl\n",
    "import torch\n",
    "import numpy as np\n",
    "import pandas as pd\n",
    "import os\n",
    "from scipy.sparse import dok_matrix\n",
    "\n",
    "from tqdm.notebook import tqdm\n",
    "\n",
    "from utils.incremental_encoder import IncrementalEncoder"
   ]
  },
  {
   "cell_type": "markdown",
   "metadata": {},
   "source": [
    "## Preparação de Dados"
   ]
  },
  {
   "cell_type": "code",
   "execution_count": null,
   "metadata": {},
   "outputs": [],
   "source": [
    "tracks_encoder = IncrementalEncoder()\n",
    "tracks_encoder.load(\"../dados-processados/encoding_tracks.json\")"
   ]
  },
  {
   "cell_type": "code",
   "execution_count": 2,
   "metadata": {},
   "outputs": [
    {
     "data": {
      "text/html": [
       "<div>\n",
       "<style scoped>\n",
       "    .dataframe tbody tr th:only-of-type {\n",
       "        vertical-align: middle;\n",
       "    }\n",
       "\n",
       "    .dataframe tbody tr th {\n",
       "        vertical-align: top;\n",
       "    }\n",
       "\n",
       "    .dataframe thead th {\n",
       "        text-align: right;\n",
       "    }\n",
       "</style>\n",
       "<table border=\"1\" class=\"dataframe\">\n",
       "  <thead>\n",
       "    <tr style=\"text-align: right;\">\n",
       "      <th></th>\n",
       "      <th>pid</th>\n",
       "      <th>playlist</th>\n",
       "    </tr>\n",
       "  </thead>\n",
       "  <tbody>\n",
       "    <tr>\n",
       "      <th>0</th>\n",
       "      <td>0</td>\n",
       "      <td>[0, 1, 2, 3, 4, 5, 6, 7, 8, 9, 10, 11, 12, 13,...</td>\n",
       "    </tr>\n",
       "    <tr>\n",
       "      <th>1</th>\n",
       "      <td>1</td>\n",
       "      <td>[51, 52, 53, 54, 55, 56, 57, 58, 59, 60, 61, 6...</td>\n",
       "    </tr>\n",
       "    <tr>\n",
       "      <th>2</th>\n",
       "      <td>2</td>\n",
       "      <td>[90, 91, 92, 93, 94, 95, 96, 97, 98, 99, 100, ...</td>\n",
       "    </tr>\n",
       "    <tr>\n",
       "      <th>3</th>\n",
       "      <td>3</td>\n",
       "      <td>[154, 155, 156, 157, 158, 159, 160, 161, 162, ...</td>\n",
       "    </tr>\n",
       "    <tr>\n",
       "      <th>4</th>\n",
       "      <td>4</td>\n",
       "      <td>[280, 281, 282, 283, 284, 285, 286, 287, 288, ...</td>\n",
       "    </tr>\n",
       "    <tr>\n",
       "      <th>...</th>\n",
       "      <td>...</td>\n",
       "      <td>...</td>\n",
       "    </tr>\n",
       "    <tr>\n",
       "      <th>999995</th>\n",
       "      <td>999995</td>\n",
       "      <td>[113082, 5782, 48787, 5783, 61875, 17695, 5046...</td>\n",
       "    </tr>\n",
       "    <tr>\n",
       "      <th>999996</th>\n",
       "      <td>999996</td>\n",
       "      <td>[2262284, 2262285, 2262286, 2262287, 2262288, ...</td>\n",
       "    </tr>\n",
       "    <tr>\n",
       "      <th>999997</th>\n",
       "      <td>999997</td>\n",
       "      <td>[39642, 41142, 5433, 22055, 3859, 1042, 9151, ...</td>\n",
       "    </tr>\n",
       "    <tr>\n",
       "      <th>999998</th>\n",
       "      <td>999998</td>\n",
       "      <td>[5767, 5871, 14503, 3935, 68970, 5837, 5837, 1...</td>\n",
       "    </tr>\n",
       "    <tr>\n",
       "      <th>999999</th>\n",
       "      <td>999999</td>\n",
       "      <td>[12420, 12517, 14293, 221877, 355081, 72691, 1...</td>\n",
       "    </tr>\n",
       "  </tbody>\n",
       "</table>\n",
       "<p>992000 rows × 2 columns</p>\n",
       "</div>"
      ],
      "text/plain": [
       "           pid                                           playlist\n",
       "0            0  [0, 1, 2, 3, 4, 5, 6, 7, 8, 9, 10, 11, 12, 13,...\n",
       "1            1  [51, 52, 53, 54, 55, 56, 57, 58, 59, 60, 61, 6...\n",
       "2            2  [90, 91, 92, 93, 94, 95, 96, 97, 98, 99, 100, ...\n",
       "3            3  [154, 155, 156, 157, 158, 159, 160, 161, 162, ...\n",
       "4            4  [280, 281, 282, 283, 284, 285, 286, 287, 288, ...\n",
       "...        ...                                                ...\n",
       "999995  999995  [113082, 5782, 48787, 5783, 61875, 17695, 5046...\n",
       "999996  999996  [2262284, 2262285, 2262286, 2262287, 2262288, ...\n",
       "999997  999997  [39642, 41142, 5433, 22055, 3859, 1042, 9151, ...\n",
       "999998  999998  [5767, 5871, 14503, 3935, 68970, 5837, 5837, 1...\n",
       "999999  999999  [12420, 12517, 14293, 221877, 355081, 72691, 1...\n",
       "\n",
       "[992000 rows x 2 columns]"
      ]
     },
     "execution_count": 2,
     "metadata": {},
     "output_type": "execute_result"
    }
   ],
   "source": [
    "# Carregando Dados Processados\n",
    "with open(\"../dados-processados/experimentos/treino.pickle\", 'rb') as _file:\n",
    "    dataset = pickle.load(_file)\n",
    "\n",
    "dataset"
   ]
  },
  {
   "cell_type": "markdown",
   "metadata": {},
   "source": [
    "### Calcula Rede 1 - Tipo Pixie"
   ]
  },
  {
   "cell_type": "code",
   "execution_count": null,
   "metadata": {},
   "outputs": [],
   "source": [
    "# Calcula tamanho de matriz\n",
    "tam_matriz = tracks_encoder.last_index + dataset.shape[0]\n",
    "\n",
    "# Cria matriz esparsa\n",
    "network_pixie = dok_matrix((tam_matriz, tam_matriz), dtype=int)\n",
    "\n",
    "# Preenche matriz com frequências de transição\n",
    "for i, row in tqdm(dataset.iterrows()):\n",
    "    pid = row['pid']\n",
    "\n",
    "    # Relaciona Musica com Playlist\n",
    "    for track in row.playlist:\n",
    "        network_pixie[pid, track] = 1"
   ]
  },
  {
   "cell_type": "code",
   "execution_count": null,
   "metadata": {},
   "outputs": [],
   "source": [
    "network_pixie_dgl = dgl.from_scipy(\n",
    "    sp_mat = network_pixie\n",
    ")\n",
    "\n",
    "with open(\"../dados-processados/network_pixie_dgl.pickle\", 'wb') as _file:\n",
    "    pickle.dump(network_pixie_dgl, _file)"
   ]
  },
  {
   "cell_type": "markdown",
   "metadata": {},
   "source": [
    "### Calcula Rede 2 - CMTD"
   ]
  },
  {
   "cell_type": "code",
   "execution_count": 3,
   "metadata": {},
   "outputs": [
    {
     "data": {
      "application/vnd.jupyter.widget-view+json": {
       "model_id": "1e17fdc24880479381679eebcc3652b0",
       "version_major": 2,
       "version_minor": 0
      },
      "text/plain": [
       "  0%|          | 0/1000000 [00:00<?, ?it/s]"
      ]
     },
     "metadata": {},
     "output_type": "display_data"
    }
   ],
   "source": [
    "# Calcula tamanho de matriz\n",
    "tam_matriz = tracks_encoder.last_index + dataset.shape[0]\n",
    "\n",
    "# Cria matriz esparsa\n",
    "network_cmtd = dok_matrix((tam_matriz, tam_matriz), dtype=int)\n",
    "\n",
    "# Preenche matriz com frequências de transição\n",
    "for playlist_id, playlist_name, tracklist in tqdm(dataset):\n",
    "    for track_idx in range( len(tracklist)-1 ):\n",
    "        current_track_id = tracklist[track_idx]\n",
    "        next_track_id = tracklist[track_idx+1]\n",
    "        \n",
    "        network_cmtd[current_track_id, next_track_id] += 1\n",
    "        network_cmtd[next_track_id, current_track_id] += 1"
   ]
  },
  {
   "cell_type": "code",
   "execution_count": 6,
   "metadata": {},
   "outputs": [],
   "source": [
    "network_cmtd_dgl = dgl.from_scipy(\n",
    "    sp_mat = network_cmtd\n",
    ")\n",
    "\n",
    "init_nodes, final_nodes = network_cmtd_dgl.edges()\n",
    "\n",
    "weights = []\n",
    "for i in range(len(init_nodes)):\n",
    "    weight = network[init_nodes[i], final_nodes[i]]\n",
    "    weights.append( weight )\n",
    "\n",
    "network_cmtd_dgl.edata['weights'] = torch.tensor(weights, dtype=float)\n",
    "\n",
    "with open(\"../dados-processados/network_cmtd_dgl.pickle\", 'wb') as _file:\n",
    "    pickle.dump(network_cmtd_dgl, _file)"
   ]
  }
 ],
 "metadata": {
  "kernelspec": {
   "display_name": "Python 3",
   "language": "python",
   "name": "python3"
  },
  "language_info": {
   "codemirror_mode": {
    "name": "ipython",
    "version": 3
   },
   "file_extension": ".py",
   "mimetype": "text/x-python",
   "name": "python",
   "nbconvert_exporter": "python",
   "pygments_lexer": "ipython3",
   "version": "3.8.5"
  }
 },
 "nbformat": 4,
 "nbformat_minor": 2
}
