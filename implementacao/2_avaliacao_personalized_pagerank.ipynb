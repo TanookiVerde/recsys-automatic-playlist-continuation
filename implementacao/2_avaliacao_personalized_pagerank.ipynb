{
 "cells": [
  {
   "cell_type": "markdown",
   "metadata": {},
   "source": [
    "# Etapa 2 - Avaliação de Modelo Personalized PageRank"
   ]
  },
  {
   "cell_type": "code",
   "execution_count": 1,
   "metadata": {},
   "outputs": [],
   "source": [
    "from models.personalized_pagerank import PersonalizedPageRank\n",
    "\n",
    "import pickle\n",
    "import dgl"
   ]
  },
  {
   "cell_type": "code",
   "execution_count": 3,
   "metadata": {},
   "outputs": [],
   "source": [
    "with open(\"../dados-processados/dgl_network.pickle\", 'rb') as _file:\n",
    "    dgl_network = pickle.load(_file)"
   ]
  },
  {
   "cell_type": "code",
   "execution_count": 4,
   "metadata": {},
   "outputs": [],
   "source": [
    "model = PersonalizedPageRank(\n",
    "    walk_depth  = 100, \n",
    "    n_rounds    = 5,\n",
    "    dgl_network = dgl_network\n",
    ")"
   ]
  },
  {
   "cell_type": "code",
   "execution_count": 5,
   "metadata": {},
   "outputs": [],
   "source": [
    "with open(\"../dados-processados/dataset_challenge.pickle\", 'rb') as _file:\n",
    "    testset = pickle.load(_file)"
   ]
  },
  {
   "cell_type": "code",
   "execution_count": null,
   "metadata": {},
   "outputs": [],
   "source": [
    "from tqdm import tqdm\n",
    "\n",
    "\n",
    "preds = []\n",
    "\n",
    "for name, playlist in tqdm(testset):\n",
    "    tracks = [x[1] for x in playlist]\n",
    "\n",
    "    if len(tracks) == 0:\n",
    "        prediction = []\n",
    "    else:\n",
    "        prediction = model.predict([tracks])\n",
    "    \n",
    "    preds.append(prediction)"
   ]
  }
 ],
 "metadata": {
  "kernelspec": {
   "display_name": "Python 3",
   "language": "python",
   "name": "python3"
  },
  "language_info": {
   "codemirror_mode": {
    "name": "ipython",
    "version": 3
   },
   "file_extension": ".py",
   "mimetype": "text/x-python",
   "name": "python",
   "nbconvert_exporter": "python",
   "pygments_lexer": "ipython3",
   "version": "3.8.5"
  }
 },
 "nbformat": 4,
 "nbformat_minor": 2
}
