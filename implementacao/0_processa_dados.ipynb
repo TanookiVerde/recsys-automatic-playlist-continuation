{
 "cells": [
  {
   "cell_type": "markdown",
   "metadata": {},
   "source": [
    "# Etapa 0 - Processamento de Dados"
   ]
  },
  {
   "cell_type": "code",
   "execution_count": 48,
   "metadata": {},
   "outputs": [],
   "source": [
    "import pickle\n",
    "import os\n",
    "\n",
    "from json import load\n",
    "from tqdm.notebook import tqdm"
   ]
  },
  {
   "cell_type": "code",
   "execution_count": 49,
   "metadata": {},
   "outputs": [],
   "source": [
    "from utils.incremental_encoder import IncrementalEncoder"
   ]
  },
  {
   "cell_type": "markdown",
   "metadata": {},
   "source": [
    "### Dados Treinamento"
   ]
  },
  {
   "cell_type": "code",
   "execution_count": 57,
   "metadata": {},
   "outputs": [
    {
     "data": {
      "application/vnd.jupyter.widget-view+json": {
       "model_id": "8fc137157f6a462f9015d9b68cb933a6",
       "version_major": 2,
       "version_minor": 0
      },
      "text/plain": [
       "  0%|          | 0/1000 [00:00<?, ?it/s]"
      ]
     },
     "metadata": {},
     "output_type": "display_data"
    }
   ],
   "source": [
    "tracks_encoder = IncrementalEncoder()\n",
    "\n",
    "dataset     = []\n",
    "for i in tqdm(range(0, 1000000, 1000)):\n",
    "    _min = i\n",
    "    _max = i + 999\n",
    "\n",
    "    with open(f\"..\\dados\\spotify_million_playlist_dataset\\data\\mpd.slice.{_min}-{_max}.json\", 'r') as _file:\n",
    "        playlists = load(_file)['playlists']\n",
    "\n",
    "    for playlist in playlists:\n",
    "        playlist_encoded_content = []\n",
    "        for track in playlist['tracks']:\n",
    "            track_id = tracks_encoder.fit_one(track['track_uri'])\n",
    "\n",
    "            playlist_encoded_content.append(track_id)\n",
    "        \n",
    "        dataset.append((playlist['pid'], playlist['name'], playlist_encoded_content))"
   ]
  },
  {
   "cell_type": "code",
   "execution_count": 58,
   "metadata": {},
   "outputs": [],
   "source": [
    "if not os.path.isdir('../dados-processados/'):\n",
    "    os.mkdir('../dados-processados/')"
   ]
  },
  {
   "cell_type": "code",
   "execution_count": 59,
   "metadata": {},
   "outputs": [],
   "source": [
    "with open(\"../dados-processados/dataset.pickle\", 'wb') as _file:\n",
    "    pickle.dump(dataset, _file)"
   ]
  },
  {
   "cell_type": "code",
   "execution_count": 60,
   "metadata": {},
   "outputs": [],
   "source": [
    "tracks_encoder.save(\"../dados-processados/encoding_tracks\")"
   ]
  },
  {
   "cell_type": "markdown",
   "metadata": {},
   "source": [
    "### Dados Desafio"
   ]
  },
  {
   "cell_type": "code",
   "execution_count": 61,
   "metadata": {},
   "outputs": [],
   "source": [
    "tracks_encoder = IncrementalEncoder()\n",
    "tracks_encoder.load(\"../dados-processados/encoding_tracks.json\")"
   ]
  },
  {
   "cell_type": "code",
   "execution_count": 62,
   "metadata": {},
   "outputs": [
    {
     "data": {
      "text/plain": [
       "10000"
      ]
     },
     "execution_count": 62,
     "metadata": {},
     "output_type": "execute_result"
    }
   ],
   "source": [
    "dataset_challenge = []\n",
    "\n",
    "with open(f\"..\\dados\\spotify_million_playlist_dataset_challenge\\challenge_set.json\", 'r') as _file:\n",
    "    playlists = load(_file)['playlists']\n",
    "\n",
    "for playlist in playlists:\n",
    "    playlist_encoded_content = []\n",
    "    for track in playlist['tracks']:\n",
    "        track_id = tracks_encoder.fit_one(track['track_uri'])\n",
    "\n",
    "        playlist_encoded_content.append(track_id)\n",
    "\n",
    "    dataset_challenge.append( (playlist['pid'], playlist.get('name', None), playlist_encoded_content) )\n",
    "\n",
    "len(dataset_challenge)"
   ]
  },
  {
   "cell_type": "code",
   "execution_count": 63,
   "metadata": {},
   "outputs": [],
   "source": [
    "with open(\"../dados-processados/dataset_challenge.pickle\", 'wb') as _file:\n",
    "    pickle.dump(dataset_challenge, _file)"
   ]
  }
 ],
 "metadata": {
  "kernelspec": {
   "display_name": "Python 3",
   "language": "python",
   "name": "python3"
  },
  "language_info": {
   "codemirror_mode": {
    "name": "ipython",
    "version": 3
   },
   "file_extension": ".py",
   "mimetype": "text/x-python",
   "name": "python",
   "nbconvert_exporter": "python",
   "pygments_lexer": "ipython3",
   "version": "3.8.5"
  },
  "orig_nbformat": 4
 },
 "nbformat": 4,
 "nbformat_minor": 2
}
