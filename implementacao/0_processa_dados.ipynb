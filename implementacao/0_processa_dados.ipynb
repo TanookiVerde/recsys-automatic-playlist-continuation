{
 "cells": [
  {
   "cell_type": "markdown",
   "metadata": {},
   "source": [
    "# Etapa 0 - Processamento de Dados"
   ]
  },
  {
   "cell_type": "code",
   "execution_count": 1,
   "metadata": {},
   "outputs": [],
   "source": [
    "import pickle\n",
    "import os\n",
    "import pandas as pd\n",
    "\n",
    "from json import load\n",
    "from tqdm.notebook import tqdm\n",
    "\n",
    "from utils.incremental_encoder import IncrementalEncoder"
   ]
  },
  {
   "cell_type": "markdown",
   "metadata": {},
   "source": [
    "### Dados Treinamento"
   ]
  },
  {
   "cell_type": "code",
   "execution_count": 3,
   "metadata": {},
   "outputs": [
    {
     "data": {
      "application/vnd.jupyter.widget-view+json": {
       "model_id": "0c086dacee684131aaae3c258546c79b",
       "version_major": 2,
       "version_minor": 0
      },
      "text/plain": [
       "  0%|          | 0/1000 [00:00<?, ?it/s]"
      ]
     },
     "metadata": {},
     "output_type": "display_data"
    }
   ],
   "source": [
    "tracks_encoder = IncrementalEncoder()\n",
    "\n",
    "dataset     = []\n",
    "for i in tqdm(range(0, 1000000, 1000)):\n",
    "    _min = i\n",
    "    _max = i + 999\n",
    "\n",
    "    with open(f\"..\\dados\\spotify_million_playlist_dataset\\data\\mpd.slice.{_min}-{_max}.json\", 'r') as _file:\n",
    "        playlists = load(_file)['playlists']\n",
    "\n",
    "    for playlist in playlists:\n",
    "        playlist_encoded_content = []\n",
    "        for track in playlist['tracks']:\n",
    "            track_id = tracks_encoder.fit_one(track['track_uri'])\n",
    "\n",
    "            playlist_encoded_content.append(track_id)\n",
    "        \n",
    "        dataset.append((playlist['pid'], playlist_encoded_content, len(playlist_encoded_content)))"
   ]
  },
  {
   "cell_type": "code",
   "execution_count": 4,
   "metadata": {},
   "outputs": [],
   "source": [
    "if not os.path.isdir('../dados-processados/'):\n",
    "    os.mkdir('../dados-processados/')\n",
    "\n",
    "with open(\"../dados-processados/dataset.pickle\", 'wb') as _file:\n",
    "    pickle.dump(dataset, _file)\n",
    "\n",
    "tracks_encoder.save(\"../dados-processados/encoding_tracks\")"
   ]
  },
  {
   "cell_type": "markdown",
   "metadata": {},
   "source": [
    "## Separação em Experimentos"
   ]
  },
  {
   "cell_type": "code",
   "execution_count": 12,
   "metadata": {},
   "outputs": [],
   "source": [
    "if not os.path.isdir('../dados-processados/experimentos/'):\n",
    "    os.mkdir('../dados-processados/experimentos/')"
   ]
  },
  {
   "cell_type": "code",
   "execution_count": 29,
   "metadata": {},
   "outputs": [],
   "source": [
    "def pega_X(playlist, k):\n",
    "    return playlist[:k]\n",
    "\n",
    "def pega_y(playlist, k):\n",
    "    return playlist[k:]"
   ]
  },
  {
   "cell_type": "code",
   "execution_count": 33,
   "metadata": {},
   "outputs": [
    {
     "data": {
      "text/html": [
       "<div>\n",
       "<style scoped>\n",
       "    .dataframe tbody tr th:only-of-type {\n",
       "        vertical-align: middle;\n",
       "    }\n",
       "\n",
       "    .dataframe tbody tr th {\n",
       "        vertical-align: top;\n",
       "    }\n",
       "\n",
       "    .dataframe thead th {\n",
       "        text-align: right;\n",
       "    }\n",
       "</style>\n",
       "<table border=\"1\" class=\"dataframe\">\n",
       "  <thead>\n",
       "    <tr style=\"text-align: right;\">\n",
       "      <th></th>\n",
       "      <th>nome</th>\n",
       "      <th>n</th>\n",
       "      <th>min_musicas</th>\n",
       "      <th>tam_query</th>\n",
       "    </tr>\n",
       "  </thead>\n",
       "  <tbody>\n",
       "    <tr>\n",
       "      <th>0</th>\n",
       "      <td>1</td>\n",
       "      <td>2000</td>\n",
       "      <td>150</td>\n",
       "      <td>100</td>\n",
       "    </tr>\n",
       "    <tr>\n",
       "      <th>1</th>\n",
       "      <td>2</td>\n",
       "      <td>2000</td>\n",
       "      <td>38</td>\n",
       "      <td>20</td>\n",
       "    </tr>\n",
       "    <tr>\n",
       "      <th>2</th>\n",
       "      <td>3</td>\n",
       "      <td>2000</td>\n",
       "      <td>20</td>\n",
       "      <td>10</td>\n",
       "    </tr>\n",
       "    <tr>\n",
       "      <th>3</th>\n",
       "      <td>4</td>\n",
       "      <td>2000</td>\n",
       "      <td>10</td>\n",
       "      <td>5</td>\n",
       "    </tr>\n",
       "  </tbody>\n",
       "</table>\n",
       "</div>"
      ],
      "text/plain": [
       "   nome     n  min_musicas  tam_query\n",
       "0     1  2000          150        100\n",
       "1     2  2000           38         20\n",
       "2     3  2000           20         10\n",
       "3     4  2000           10          5"
      ]
     },
     "execution_count": 33,
     "metadata": {},
     "output_type": "execute_result"
    }
   ],
   "source": [
    "experimentos = pd.DataFrame(\n",
    "    {\n",
    "        'nome'          : [   1,   2,   3,   4],\n",
    "        'n'             : [2000,2000,2000,2000],\n",
    "        'min_musicas'   : [ 150,  38,  20,  10],\n",
    "        'tam_query'     : [ 100,  20,  10,   5],\n",
    "    }\n",
    ")\n",
    "\n",
    "experimentos"
   ]
  },
  {
   "cell_type": "code",
   "execution_count": 38,
   "metadata": {},
   "outputs": [],
   "source": [
    "dataset_ = pd.DataFrame(dataset, columns=['pid','playlist','length'])\n",
    "\n",
    "for i, row in experimentos.iterrows():\n",
    "    dados_experimento = dataset_[ dataset_.length > row['min_musicas'] ].sample(n=row['n'])\n",
    "\n",
    "    dataset_ = dataset_[ ~dataset_.pid.isin(dados_experimento.pid) ]\n",
    "\n",
    "    dados_experimento['X'] = dados_experimento.playlist.apply(lambda x : pega_X(x, row['tam_query']))\n",
    "    dados_experimento['y'] = dados_experimento.playlist.apply(lambda x : pega_y(x, row['tam_query']))\n",
    "\n",
    "    dados_experimento.drop(columns=['playlist','length'], inplace=True)\n",
    "\n",
    "    dados_experimento.to_pickle(f\"../dados-processados/experimentos/teste_{row['nome']}.pickle\")\n",
    "\n",
    "dataset_.drop(columns=['length'], inplace=True)\n",
    "dataset_.to_pickle(f\"../dados-processados/experimentos/treino.pickle\")"
   ]
  },
  {
   "cell_type": "markdown",
   "metadata": {},
   "source": [
    "Preview"
   ]
  },
  {
   "cell_type": "code",
   "execution_count": 41,
   "metadata": {},
   "outputs": [
    {
     "data": {
      "text/html": [
       "<div>\n",
       "<style scoped>\n",
       "    .dataframe tbody tr th:only-of-type {\n",
       "        vertical-align: middle;\n",
       "    }\n",
       "\n",
       "    .dataframe tbody tr th {\n",
       "        vertical-align: top;\n",
       "    }\n",
       "\n",
       "    .dataframe thead th {\n",
       "        text-align: right;\n",
       "    }\n",
       "</style>\n",
       "<table border=\"1\" class=\"dataframe\">\n",
       "  <thead>\n",
       "    <tr style=\"text-align: right;\">\n",
       "      <th></th>\n",
       "      <th>pid</th>\n",
       "      <th>X</th>\n",
       "      <th>y</th>\n",
       "    </tr>\n",
       "  </thead>\n",
       "  <tbody>\n",
       "    <tr>\n",
       "      <th>250501</th>\n",
       "      <td>250501</td>\n",
       "      <td>[11190, 14449, 6702, 4704, 37055]</td>\n",
       "      <td>[12705, 308, 13586, 4620, 2414, 17918, 4899, 7...</td>\n",
       "    </tr>\n",
       "    <tr>\n",
       "      <th>189219</th>\n",
       "      <td>189219</td>\n",
       "      <td>[1980, 2152, 4587, 34305, 12905]</td>\n",
       "      <td>[16909, 8331, 29, 16960, 7971, 35, 8162, 33, 1...</td>\n",
       "    </tr>\n",
       "    <tr>\n",
       "      <th>5280</th>\n",
       "      <td>5280</td>\n",
       "      <td>[6517, 6519, 52341, 6518, 13807]</td>\n",
       "      <td>[13503, 30376, 13555, 1811, 1260, 1828, 49918,...</td>\n",
       "    </tr>\n",
       "    <tr>\n",
       "      <th>650243</th>\n",
       "      <td>650243</td>\n",
       "      <td>[96467, 10842, 17527, 229282, 254204]</td>\n",
       "      <td>[3964, 19071, 7268, 323065, 87980, 1300, 2930,...</td>\n",
       "    </tr>\n",
       "    <tr>\n",
       "      <th>903925</th>\n",
       "      <td>903925</td>\n",
       "      <td>[9127, 232095, 67193, 891554, 13494]</td>\n",
       "      <td>[13498, 6859, 58083, 1130, 9537, 220, 3682, 36...</td>\n",
       "    </tr>\n",
       "  </tbody>\n",
       "</table>\n",
       "</div>"
      ],
      "text/plain": [
       "           pid                                      X  \\\n",
       "250501  250501      [11190, 14449, 6702, 4704, 37055]   \n",
       "189219  189219       [1980, 2152, 4587, 34305, 12905]   \n",
       "5280      5280       [6517, 6519, 52341, 6518, 13807]   \n",
       "650243  650243  [96467, 10842, 17527, 229282, 254204]   \n",
       "903925  903925   [9127, 232095, 67193, 891554, 13494]   \n",
       "\n",
       "                                                        y  \n",
       "250501  [12705, 308, 13586, 4620, 2414, 17918, 4899, 7...  \n",
       "189219  [16909, 8331, 29, 16960, 7971, 35, 8162, 33, 1...  \n",
       "5280    [13503, 30376, 13555, 1811, 1260, 1828, 49918,...  \n",
       "650243  [3964, 19071, 7268, 323065, 87980, 1300, 2930,...  \n",
       "903925  [13498, 6859, 58083, 1130, 9537, 220, 3682, 36...  "
      ]
     },
     "execution_count": 41,
     "metadata": {},
     "output_type": "execute_result"
    }
   ],
   "source": [
    "dados_experimento.head()"
   ]
  },
  {
   "cell_type": "code",
   "execution_count": 40,
   "metadata": {},
   "outputs": [
    {
     "data": {
      "text/html": [
       "<div>\n",
       "<style scoped>\n",
       "    .dataframe tbody tr th:only-of-type {\n",
       "        vertical-align: middle;\n",
       "    }\n",
       "\n",
       "    .dataframe tbody tr th {\n",
       "        vertical-align: top;\n",
       "    }\n",
       "\n",
       "    .dataframe thead th {\n",
       "        text-align: right;\n",
       "    }\n",
       "</style>\n",
       "<table border=\"1\" class=\"dataframe\">\n",
       "  <thead>\n",
       "    <tr style=\"text-align: right;\">\n",
       "      <th></th>\n",
       "      <th>pid</th>\n",
       "      <th>playlist</th>\n",
       "    </tr>\n",
       "  </thead>\n",
       "  <tbody>\n",
       "    <tr>\n",
       "      <th>0</th>\n",
       "      <td>0</td>\n",
       "      <td>[0, 1, 2, 3, 4, 5, 6, 7, 8, 9, 10, 11, 12, 13,...</td>\n",
       "    </tr>\n",
       "    <tr>\n",
       "      <th>1</th>\n",
       "      <td>1</td>\n",
       "      <td>[51, 52, 53, 54, 55, 56, 57, 58, 59, 60, 61, 6...</td>\n",
       "    </tr>\n",
       "    <tr>\n",
       "      <th>2</th>\n",
       "      <td>2</td>\n",
       "      <td>[90, 91, 92, 93, 94, 95, 96, 97, 98, 99, 100, ...</td>\n",
       "    </tr>\n",
       "    <tr>\n",
       "      <th>3</th>\n",
       "      <td>3</td>\n",
       "      <td>[154, 155, 156, 157, 158, 159, 160, 161, 162, ...</td>\n",
       "    </tr>\n",
       "    <tr>\n",
       "      <th>4</th>\n",
       "      <td>4</td>\n",
       "      <td>[280, 281, 282, 283, 284, 285, 286, 287, 288, ...</td>\n",
       "    </tr>\n",
       "  </tbody>\n",
       "</table>\n",
       "</div>"
      ],
      "text/plain": [
       "   pid                                           playlist\n",
       "0    0  [0, 1, 2, 3, 4, 5, 6, 7, 8, 9, 10, 11, 12, 13,...\n",
       "1    1  [51, 52, 53, 54, 55, 56, 57, 58, 59, 60, 61, 6...\n",
       "2    2  [90, 91, 92, 93, 94, 95, 96, 97, 98, 99, 100, ...\n",
       "3    3  [154, 155, 156, 157, 158, 159, 160, 161, 162, ...\n",
       "4    4  [280, 281, 282, 283, 284, 285, 286, 287, 288, ..."
      ]
     },
     "execution_count": 40,
     "metadata": {},
     "output_type": "execute_result"
    }
   ],
   "source": [
    "dataset_.head()"
   ]
  }
 ],
 "metadata": {
  "kernelspec": {
   "display_name": "Python 3",
   "language": "python",
   "name": "python3"
  },
  "language_info": {
   "codemirror_mode": {
    "name": "ipython",
    "version": 3
   },
   "file_extension": ".py",
   "mimetype": "text/x-python",
   "name": "python",
   "nbconvert_exporter": "python",
   "pygments_lexer": "ipython3",
   "version": "3.8.5"
  },
  "orig_nbformat": 4
 },
 "nbformat": 4,
 "nbformat_minor": 2
}
