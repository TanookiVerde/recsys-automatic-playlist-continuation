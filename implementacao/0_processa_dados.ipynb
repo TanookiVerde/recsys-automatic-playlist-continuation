{
 "cells": [
  {
   "cell_type": "markdown",
   "metadata": {},
   "source": [
    "# Etapa 0 - Processamento de Dados"
   ]
  },
  {
   "cell_type": "code",
   "execution_count": 2,
   "metadata": {},
   "outputs": [],
   "source": [
    "import pickle\n",
    "import os\n",
    "\n",
    "from json import load\n",
    "from tqdm.notebook import tqdm"
   ]
  },
  {
   "cell_type": "code",
   "execution_count": 3,
   "metadata": {},
   "outputs": [],
   "source": [
    "class IncrementalEncoder():\n",
    "    def __init__(self):\n",
    "        self.encoding = {}\n",
    "        self.last_index = 0\n",
    "    \n",
    "    def fit_one(self, value):\n",
    "        if value in self.encoding.keys():\n",
    "            return self.encoding[value]\n",
    "        else:\n",
    "            self.encoding[value] = self.last_index\n",
    "            self.last_index += 1\n",
    "\n",
    "            return self.encoding[value]\n",
    "\n",
    "    def transform(self, values):\n",
    "        return [self.encoding[x] for x in values]\n",
    "    \n",
    "    def load_encoding(self, filepath):\n",
    "        from json import load\n",
    "\n",
    "        with open(filepath, 'r') as _file:\n",
    "            self.encoding = load(_file)\n",
    "    \n",
    "    def save_encoding(self, filepath):\n",
    "        from json import dump\n",
    "\n",
    "        with open(filepath, 'w+') as _file:\n",
    "            dump(self.encoding, _file)\n"
   ]
  },
  {
   "cell_type": "markdown",
   "metadata": {},
   "source": [
    "### Dados Treinamento"
   ]
  },
  {
   "cell_type": "code",
   "execution_count": 83,
   "metadata": {},
   "outputs": [
    {
     "data": {
      "application/vnd.jupyter.widget-view+json": {
       "model_id": "8399d422a5f349df8f1b3c8d50fd2607",
       "version_major": 2,
       "version_minor": 0
      },
      "text/plain": [
       "HBox(children=(HTML(value=''), FloatProgress(value=0.0, max=1000.0), HTML(value='')))"
      ]
     },
     "metadata": {},
     "output_type": "display_data"
    },
    {
     "name": "stdout",
     "output_type": "stream",
     "text": [
      "\n"
     ]
    }
   ],
   "source": [
    "artists_encoder = IncrementalEncoder()\n",
    "tracks_encoder = IncrementalEncoder()\n",
    "\n",
    "dataset     = []\n",
    "for i in tqdm(range(0, 1000000, 1000)):\n",
    "    _min = i\n",
    "    _max = i + 999\n",
    "\n",
    "    with open(f\"..\\dados\\spotify_million_playlist_dataset\\data\\mpd.slice.{_min}-{_max}.json\", 'r') as _file:\n",
    "        playlists = load(_file)['playlists']\n",
    "\n",
    "    for playlist in playlists:\n",
    "        playlist_encoded_content = []\n",
    "        for track in playlist['tracks']:\n",
    "            artist_id = artists_encoder.fit_one(track['artist_uri'])\n",
    "            track_id = tracks_encoder.fit_one(track['track_uri'])\n",
    "\n",
    "            playlist_encoded_content.append((track['pos'], artist_id, track_id))\n",
    "        \n",
    "        dataset.append((playlist['name'], playlist_encoded_content))"
   ]
  },
  {
   "cell_type": "code",
   "execution_count": 2,
   "metadata": {},
   "outputs": [],
   "source": [
    "if not os.path.isdir('../dados-processados/'):\n",
    "    os.mkdir('../dados-processados/')"
   ]
  },
  {
   "cell_type": "code",
   "execution_count": 84,
   "metadata": {},
   "outputs": [],
   "source": [
    "with open(\"../dados-processados/dataset.pickle\", 'wb') as _file:\n",
    "    pickle.dump(dataset, _file)"
   ]
  },
  {
   "cell_type": "code",
   "execution_count": 85,
   "metadata": {},
   "outputs": [],
   "source": [
    "tracks_encoder.save_encoding(\"../dados-processados/encoding_tracks.json\")\n",
    "artists_encoder.save_encoding(\"../dados-processados/encoding_artists.json\")"
   ]
  },
  {
   "cell_type": "markdown",
   "metadata": {},
   "source": [
    "### Dados Desafio"
   ]
  },
  {
   "cell_type": "code",
   "execution_count": 4,
   "metadata": {},
   "outputs": [],
   "source": [
    "artists_encoder = IncrementalEncoder()\n",
    "artists_encoder.load_encoding(\"../dados-processados/encoding_artists.json\")\n",
    "\n",
    "tracks_encoder = IncrementalEncoder()\n",
    "tracks_encoder.load_encoding(\"../dados-processados/encoding_tracks.json\")"
   ]
  },
  {
   "cell_type": "code",
   "execution_count": 7,
   "metadata": {},
   "outputs": [
    {
     "data": {
      "text/plain": [
       "10000"
      ]
     },
     "execution_count": 7,
     "metadata": {},
     "output_type": "execute_result"
    }
   ],
   "source": [
    "dataset_challenge = []\n",
    "\n",
    "with open(f\"..\\dados\\spotify_million_playlist_dataset_challenge\\challenge_set.json\", 'r') as _file:\n",
    "    playlists = load(_file)['playlists']\n",
    "\n",
    "for playlist in playlists:\n",
    "    playlist_encoded_content = []\n",
    "    for track in playlist['tracks']:\n",
    "        artist_id = artists_encoder.fit_one(track['artist_uri'])\n",
    "        track_id = tracks_encoder.fit_one(track['track_uri'])\n",
    "\n",
    "        playlist_encoded_content.append((track['pos'], artist_id, track_id))\n",
    "\n",
    "    dataset_challenge.append((playlist.get('name', None), playlist_encoded_content))\n",
    "\n",
    "len(dataset_challenge)"
   ]
  },
  {
   "cell_type": "code",
   "execution_count": 10,
   "metadata": {},
   "outputs": [],
   "source": [
    "with open(\"../dados-processados/dataset_challenge.pickle\", 'wb') as _file:\n",
    "    pickle.dump(dataset_challenge, _file)"
   ]
  }
 ],
 "metadata": {
  "kernelspec": {
   "display_name": "Python 3",
   "language": "python",
   "name": "python3"
  },
  "language_info": {
   "codemirror_mode": {
    "name": "ipython",
    "version": 3
   },
   "file_extension": ".py",
   "mimetype": "text/x-python",
   "name": "python",
   "nbconvert_exporter": "python",
   "pygments_lexer": "ipython3",
   "version": "3.8.5"
  },
  "orig_nbformat": 4
 },
 "nbformat": 4,
 "nbformat_minor": 2
}
